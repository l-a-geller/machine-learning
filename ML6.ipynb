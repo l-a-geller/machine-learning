{
 "cells": [
  {
   "cell_type": "code",
   "execution_count": 1,
   "id": "94e14c1b-2dad-45df-a9f4-75df01038caa",
   "metadata": {},
   "outputs": [],
   "source": [
    "import pandas as pd\n",
    "from sklearn.linear_model import LogisticRegression\n",
    "from sklearn import metrics"
   ]
  },
  {
   "cell_type": "code",
   "execution_count": 8,
   "id": "b97111de-324c-472e-9644-28176a76cce1",
   "metadata": {},
   "outputs": [],
   "source": [
    "df = pd.read_csv(\"C:\\ml6t.csv\", index_col='competitorname')"
   ]
  },
  {
   "cell_type": "code",
   "execution_count": 10,
   "id": "0342f20c-deba-4869-9622-7449cc5ab90f",
   "metadata": {},
   "outputs": [],
   "source": [
    "train_data = df.drop(['Almond Joy', 'Dum Dums', 'Mr Good Bar'])"
   ]
  },
  {
   "cell_type": "code",
   "execution_count": 11,
   "id": "41c36b99-4917-4fd6-8655-8d34408bfd96",
   "metadata": {},
   "outputs": [],
   "source": [
    "X = pd.DataFrame(train_data.drop(['winpercent', 'Y'], axis=1))\n",
    "Y = pd.DataFrame(train_data['Y'])\n",
    "reg = LogisticRegression(random_state=2019, solver='lbfgs').fit(X, Y.values.ravel())"
   ]
  },
  {
   "cell_type": "code",
   "execution_count": 12,
   "id": "a4490753-3c74-4eb9-9c57-bfc8a14ebfc6",
   "metadata": {},
   "outputs": [],
   "source": [
    "test_data = pd.read_csv(\"C:\\ml6d.csv\", delimiter=',', index_col='competitorname')\n",
    "X_test = pd.DataFrame(test_data.drop(['Y'], axis=1))\n",
    "Y_pred = reg.predict(X_test)\n",
    "Y_pred_probs = reg.predict_proba(X_test)"
   ]
  },
  {
   "cell_type": "code",
   "execution_count": 13,
   "id": "2b649680-6d61-4949-9bab-9bb309ebf2e9",
   "metadata": {},
   "outputs": [],
   "source": [
    "Probability = pd.DataFrame({\n",
    "    '0': [x[0] for x in Y_pred_probs],\n",
    "    '1': [x[1] for x in Y_pred_probs]\n",
    "},\n",
    "index = test_data.index)"
   ]
  },
  {
   "cell_type": "code",
   "execution_count": 14,
   "id": "1865c45b-899d-406a-9d5b-f634755803ef",
   "metadata": {},
   "outputs": [
    {
     "data": {
      "text/html": [
       "<div>\n",
       "<style scoped>\n",
       "    .dataframe tbody tr th:only-of-type {\n",
       "        vertical-align: middle;\n",
       "    }\n",
       "\n",
       "    .dataframe tbody tr th {\n",
       "        vertical-align: top;\n",
       "    }\n",
       "\n",
       "    .dataframe thead th {\n",
       "        text-align: right;\n",
       "    }\n",
       "</style>\n",
       "<table border=\"1\" class=\"dataframe\">\n",
       "  <thead>\n",
       "    <tr style=\"text-align: right;\">\n",
       "      <th></th>\n",
       "      <th>0</th>\n",
       "      <th>1</th>\n",
       "    </tr>\n",
       "    <tr>\n",
       "      <th>competitorname</th>\n",
       "      <th></th>\n",
       "      <th></th>\n",
       "    </tr>\n",
       "  </thead>\n",
       "  <tbody>\n",
       "    <tr>\n",
       "      <th>Sugar Babies</th>\n",
       "      <td>0.708083</td>\n",
       "      <td>0.291917</td>\n",
       "    </tr>\n",
       "    <tr>\n",
       "      <th>Sugar Daddy</th>\n",
       "      <td>0.616189</td>\n",
       "      <td>0.383811</td>\n",
       "    </tr>\n",
       "    <tr>\n",
       "      <th>Super Bubble</th>\n",
       "      <td>0.649194</td>\n",
       "      <td>0.350806</td>\n",
       "    </tr>\n",
       "    <tr>\n",
       "      <th>Swedish Fish</th>\n",
       "      <td>0.620027</td>\n",
       "      <td>0.379973</td>\n",
       "    </tr>\n",
       "    <tr>\n",
       "      <th>Tootsie Pop</th>\n",
       "      <td>0.246070</td>\n",
       "      <td>0.753930</td>\n",
       "    </tr>\n",
       "    <tr>\n",
       "      <th>Tootsie Roll Juniors</th>\n",
       "      <td>0.316222</td>\n",
       "      <td>0.683778</td>\n",
       "    </tr>\n",
       "    <tr>\n",
       "      <th>Tootsie Roll Midgies</th>\n",
       "      <td>0.334438</td>\n",
       "      <td>0.665562</td>\n",
       "    </tr>\n",
       "    <tr>\n",
       "      <th>Tootsie Roll Snack Bars</th>\n",
       "      <td>0.232184</td>\n",
       "      <td>0.767816</td>\n",
       "    </tr>\n",
       "    <tr>\n",
       "      <th>Trolli Sour Bites</th>\n",
       "      <td>0.646584</td>\n",
       "      <td>0.353416</td>\n",
       "    </tr>\n",
       "    <tr>\n",
       "      <th>Twix</th>\n",
       "      <td>0.588422</td>\n",
       "      <td>0.411578</td>\n",
       "    </tr>\n",
       "    <tr>\n",
       "      <th>Twizzlers</th>\n",
       "      <td>0.640804</td>\n",
       "      <td>0.359196</td>\n",
       "    </tr>\n",
       "    <tr>\n",
       "      <th>Warheads</th>\n",
       "      <td>0.843662</td>\n",
       "      <td>0.156338</td>\n",
       "    </tr>\n",
       "    <tr>\n",
       "      <th>Welchs Fruit Snacks</th>\n",
       "      <td>0.648423</td>\n",
       "      <td>0.351577</td>\n",
       "    </tr>\n",
       "    <tr>\n",
       "      <th>Werthers Original Caramel</th>\n",
       "      <td>0.424901</td>\n",
       "      <td>0.575099</td>\n",
       "    </tr>\n",
       "    <tr>\n",
       "      <th>Whoppers</th>\n",
       "      <td>0.266413</td>\n",
       "      <td>0.733587</td>\n",
       "    </tr>\n",
       "  </tbody>\n",
       "</table>\n",
       "</div>"
      ],
      "text/plain": [
       "                                  0         1\n",
       "competitorname                               \n",
       "Sugar Babies               0.708083  0.291917\n",
       "Sugar Daddy                0.616189  0.383811\n",
       "Super Bubble               0.649194  0.350806\n",
       "Swedish Fish               0.620027  0.379973\n",
       "Tootsie Pop                0.246070  0.753930\n",
       "Tootsie Roll Juniors       0.316222  0.683778\n",
       "Tootsie Roll Midgies       0.334438  0.665562\n",
       "Tootsie Roll Snack Bars    0.232184  0.767816\n",
       "Trolli Sour Bites          0.646584  0.353416\n",
       "Twix                       0.588422  0.411578\n",
       "Twizzlers                  0.640804  0.359196\n",
       "Warheads                   0.843662  0.156338\n",
       "Welchs Fruit Snacks        0.648423  0.351577\n",
       "Werthers Original Caramel  0.424901  0.575099\n",
       "Whoppers                   0.266413  0.733587"
      ]
     },
     "execution_count": 14,
     "metadata": {},
     "output_type": "execute_result"
    }
   ],
   "source": [
    "Probability"
   ]
  },
  {
   "cell_type": "code",
   "execution_count": 15,
   "id": "b8b0bef4-5423-4a88-8dff-3eda7cf83d92",
   "metadata": {},
   "outputs": [],
   "source": [
    "Y_true = (test_data['Y'].to_frame().T).values.ravel()\n",
    "fpr, tpr, _ = metrics.roc_curve(Y_true, Y_pred)\n",
    "Y_pred_probs_class_1 = Y_pred_probs[:, 1]"
   ]
  },
  {
   "cell_type": "code",
   "execution_count": 16,
   "id": "b22bac53-a5c5-49b9-92d5-7b1643ace2de",
   "metadata": {},
   "outputs": [
    {
     "data": {
      "text/plain": [
       "0.6"
      ]
     },
     "execution_count": 16,
     "metadata": {},
     "output_type": "execute_result"
    }
   ],
   "source": [
    "metrics.recall_score(Y_true, Y_pred)"
   ]
  },
  {
   "cell_type": "code",
   "execution_count": 17,
   "id": "8ce2cec1-9d80-4462-b34a-b85c7173e268",
   "metadata": {},
   "outputs": [
    {
     "data": {
      "text/plain": [
       "0.5"
      ]
     },
     "execution_count": 17,
     "metadata": {},
     "output_type": "execute_result"
    }
   ],
   "source": [
    "metrics.precision_score(Y_true, Y_pred)"
   ]
  },
  {
   "cell_type": "code",
   "execution_count": 18,
   "id": "2440832c-1c6f-490a-a117-23738dba818e",
   "metadata": {},
   "outputs": [
    {
     "data": {
      "text/plain": [
       "0.86"
      ]
     },
     "execution_count": 18,
     "metadata": {},
     "output_type": "execute_result"
    }
   ],
   "source": [
    "metrics.roc_auc_score(Y_true, Y_pred_probs_class_1)"
   ]
  },
  {
   "cell_type": "code",
   "execution_count": null,
   "id": "15f20131-df49-40ce-bed7-abb3ea25c142",
   "metadata": {},
   "outputs": [],
   "source": []
  }
 ],
 "metadata": {
  "kernelspec": {
   "display_name": "Python 3",
   "language": "python",
   "name": "python3"
  },
  "language_info": {
   "codemirror_mode": {
    "name": "ipython",
    "version": 3
   },
   "file_extension": ".py",
   "mimetype": "text/x-python",
   "name": "python",
   "nbconvert_exporter": "python",
   "pygments_lexer": "ipython3",
   "version": "3.7.4"
  }
 },
 "nbformat": 4,
 "nbformat_minor": 5
}
