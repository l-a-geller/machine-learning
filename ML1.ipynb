{
 "cells": [
  {
   "cell_type": "code",
   "execution_count": 2,
   "id": "a742c27c-e3ea-4102-bfad-73e8b0688094",
   "metadata": {},
   "outputs": [
    {
     "name": "stdout",
     "output_type": "stream",
     "text": [
      "Число строк в полученной выборке: 204\n",
      "Выборочное среднее для столбца MIP: 90.3051087622549\n",
      "Выборочное среднее для столбца MIP после нормировки: 0.5665125808527212\n",
      "0.9232341746472037\n"
     ]
    }
   ],
   "source": [
    "import pandas as pd\n",
    "import numpy as np\n",
    "from scipy.spatial import distance\n",
    "from sklearn.preprocessing import MinMaxScaler\n",
    "\n",
    "all_stars = pd.read_csv('C:\\ml1.csv')\n",
    "print('Число строк в полученной выборке: {}'.format(all_stars.shape[0]))\n",
    "print('Выборочное среднее для столбца MIP: {}'.format(all_stars['MIP'].mean()))\n",
    "\n",
    "del all_stars['TARGET']\n",
    "scaler = MinMaxScaler()\n",
    "scaler.fit(all_stars)\n",
    "all_stars = scaler.transform(all_stars)\n",
    "all_stars = pd.DataFrame(all_stars, columns =['MIP','STDIP','EKIP','SIP','MC','STDC','EKC','SC'])\n",
    "print('Выборочное среднее для столбца MIP после нормировки: {}'.format(all_stars['MIP'].mean()))\n",
    "\n",
    "star = [0.121, 0.009, 0.333, 0.335, 0.655, 0.745, 0.736, 0.536]\n",
    "minval = distance.euclidean(star, all_stars.iloc[0])\n",
    "for i in range(1, all_stars.shape[0]):\n",
    "    dst = distance.euclidean(star, all_stars.iloc[i])\n",
    "    if dst < minval: \n",
    "        minval = dst\n",
    "print(minval)\n"
   ]
  },
  {
   "cell_type": "code",
   "execution_count": null,
   "id": "11812700-f8d3-44ca-918e-93c5389fe607",
   "metadata": {},
   "outputs": [],
   "source": []
  },
  {
   "cell_type": "code",
   "execution_count": null,
   "id": "ef0ff539-1864-4ebd-a660-ef1d0f5dea2a",
   "metadata": {},
   "outputs": [],
   "source": []
  },
  {
   "cell_type": "code",
   "execution_count": null,
   "id": "fb8496dc-1c30-4cd1-a01a-88ecc0053b5a",
   "metadata": {},
   "outputs": [],
   "source": []
  }
 ],
 "metadata": {
  "kernelspec": {
   "display_name": "Python 3",
   "language": "python",
   "name": "python3"
  },
  "language_info": {
   "codemirror_mode": {
    "name": "ipython",
    "version": 3
   },
   "file_extension": ".py",
   "mimetype": "text/x-python",
   "name": "python",
   "nbconvert_exporter": "python",
   "pygments_lexer": "ipython3",
   "version": "3.7.4"
  }
 },
 "nbformat": 4,
 "nbformat_minor": 5
}
