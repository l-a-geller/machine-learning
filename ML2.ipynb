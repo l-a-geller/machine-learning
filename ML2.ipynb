{
 "cells": [
  {
   "cell_type": "code",
   "execution_count": 5,
   "id": "253076f4-78af-42d9-8721-fd338f357740",
   "metadata": {},
   "outputs": [
    {
     "data": {
      "text/plain": [
       "array([ -2.49279543, -34.21521225])"
      ]
     },
     "execution_count": 5,
     "metadata": {},
     "output_type": "execute_result"
    }
   ],
   "source": [
    "import numpy as np\n",
    "import pandas as pd \n",
    "from sklearn.decomposition import PCA\n",
    "from sklearn import datasets\n",
    "import matplotlib\n",
    "import matplotlib.pyplot as plt\n",
    "%matplotlib inline\n",
    "\n",
    "X = pd.read_csv(\"C:\\ml2.csv\", header = None)\n",
    "pca = PCA(n_components=2, svd_solver='full')\n",
    "X_transformed = pca.fit(X).transform(X)\n",
    "X_transformed[0]\n",
    "\n",
    "\n"
   ]
  },
  {
   "cell_type": "code",
   "execution_count": 4,
   "id": "b88f44f7-de2a-4061-9aa7-e48951f2a518",
   "metadata": {},
   "outputs": [
    {
     "data": {
      "text/plain": [
       "array([0.363, 0.607])"
      ]
     },
     "execution_count": 4,
     "metadata": {},
     "output_type": "execute_result"
    }
   ],
   "source": [
    "explained_variance = np.round(np.cumsum(pca.explained_variance_ratio_),3)\n",
    "explained_variance"
   ]
  },
  {
   "cell_type": "code",
   "execution_count": 6,
   "id": "eea48263-7999-4417-b241-3843d654848e",
   "metadata": {},
   "outputs": [
    {
     "data": {
      "text/plain": [
       "array([0.363, 0.607, 0.84 , 0.942, 0.996, 0.997, 0.998, 0.999, 0.999,\n",
       "       1.   ])"
      ]
     },
     "execution_count": 6,
     "metadata": {},
     "output_type": "execute_result"
    }
   ],
   "source": [
    "pca = PCA(n_components=10, svd_solver='auto')\n",
    "X_full = pca.fit(X).transform(X)\n",
    "explained_variance = np.round(np.cumsum(pca.explained_variance_ratio_),3)\n",
    "explained_variance"
   ]
  },
  {
   "cell_type": "code",
   "execution_count": 7,
   "id": "15cb6e6d-239b-426d-bfb9-645e886dcfa2",
   "metadata": {},
   "outputs": [
    {
     "data": {
      "text/plain": [
       "[<matplotlib.lines.Line2D at 0xb326d0>]"
      ]
     },
     "execution_count": 7,
     "metadata": {},
     "output_type": "execute_result"
    },
    {
     "data": {
      "image/png": "[encoded data removed]",
      "text/plain": [
       "<Figure size 432x288 with 1 Axes>"
      ]
     },
     "metadata": {
      "needs_background": "light"
     },
     "output_type": "display_data"
    }
   ],
   "source": [
    "plt.plot(X_transformed[:101, 0], X_transformed[:101, 1], 'o', markerfacecolor='red', markeredgecolor='k', markersize=8)"
   ]
  },
  {
   "cell_type": "code",
   "execution_count": null,
   "id": "539a8a06-acc0-480d-9e06-b3df6eeb75d9",
   "metadata": {},
   "outputs": [],
   "source": []
  }
 ],
 "metadata": {
  "kernelspec": {
   "display_name": "Python 3",
   "language": "python",
   "name": "python3"
  },
  "language_info": {
   "codemirror_mode": {
    "name": "ipython",
    "version": 3
   },
   "file_extension": ".py",
   "mimetype": "text/x-python",
   "name": "python",
   "nbconvert_exporter": "python",
   "pygments_lexer": "ipython3",
   "version": "3.7.4"
  }
 },
 "nbformat": 4,
 "nbformat_minor": 5
}
